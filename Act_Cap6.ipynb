{
 "cells": [
  {
   "cell_type": "code",
   "execution_count": 11,
   "id": "d3c94d47-a5fd-4eb5-adc3-1d4876393081",
   "metadata": {},
   "outputs": [
    {
     "name": "stdin",
     "output_type": "stream",
     "text": [
      "Ingrese las monedas almacenadas (separadas por espacios):  100 50 20 10 5\n",
      "Introduzca monto:  170\n"
     ]
    },
    {
     "name": "stdout",
     "output_type": "stream",
     "text": [
      "Monedas utilizadas para el cambio: [100, 50, 20]\n",
      "Cantidad de monedas utilizadas: 3\n"
     ]
    }
   ],
   "source": [
    "def cambio_moneda2(monedas, monto):\n",
    "    cambio = []\n",
    "    \n",
    "    for moneda in monedas:\n",
    "        while monto >= moneda:\n",
    "            cambio.append(moneda)\n",
    "            monto -= moneda\n",
    "            \n",
    "    return cambio\n",
    "\n",
    "monedas = list(map(int, input(\"Ingrese las monedas almacenadas (separadas por espacios): \").split()))\n",
    "monedas.sort(reverse=True)\n",
    "cant = int(input(\"Introduzca monto: \"))\n",
    "cambios = cambio_moneda2(monedas, cant)\n",
    "\n",
    "print(\"Monedas utilizadas para el cambio:\", cambios)\n",
    "print(\"Cantidad de monedas utilizadas:\", len(cambios))\n"
   ]
  },
  {
   "cell_type": "code",
   "execution_count": 1,
   "id": "d5835651-4d84-4fbd-b863-7a307d32103e",
   "metadata": {},
   "outputs": [
    {
     "name": "stdout",
     "output_type": "stream",
     "text": [
      "6\n"
     ]
    }
   ],
   "source": [
    "# Dados n enteros en una matriz unidimensional sucesiva, \n",
    "# escriba un algoritmo que encuentre cuándo se\n",
    "# maximiza la suma de los valores sucesivos de la matriz.\n",
    "\n",
    "def maximum_subarray(S):\n",
    "    aja = 0\n",
    "    for i in range(len(S)):\n",
    "        for j in range(len(S)):\n",
    "            temp = sum(S[i:j])\n",
    "            if temp > aja:\n",
    "                aja = temp\n",
    "    return aja\n",
    "\n",
    "S = [-2, 1, -3, 4, -1, 2, 1, -5, 4] \n",
    "M = maximum_subarray(S)\n",
    "print (M)"
   ]
  },
  {
   "cell_type": "code",
   "execution_count": 3,
   "id": "b096b061-2ee9-47b6-a10f-d69d2be0ad36",
   "metadata": {},
   "outputs": [
    {
     "name": "stdout",
     "output_type": "stream",
     "text": [
      "[(0, 0), (0, 1), (1, 1), (2, 1), (3, 1), (3, 2), (3, 3)]\n"
     ]
    }
   ],
   "source": [
    "maze = [\n",
    "    [0, 0, 0, 0],\n",
    "    [1, 0, 1, 0],\n",
    "    [1, 0, 1, 1],\n",
    "    [0, 0, 0, 0],\n",
    "]\n",
    "N = len(maze) \n",
    "path = []  \n",
    "\n",
    "def solve_maze(x, y):\n",
    "    if promising(x, y): \n",
    "        path.append((x, y))\n",
    "        if (x, y) == (N - 1, N - 1):  \n",
    "            print(path)\n",
    "        else:\n",
    "            solve_maze(x, y + 1)\n",
    "            solve_maze(x + 1, y)  \n",
    "            solve_maze(x - 1, y)  \n",
    "        path.pop()  \n",
    "\n",
    "def promising(x, y):\n",
    "    return 0 <= x < N and 0 <= y < N and maze[x][y] == 0 and (x, y) not in path\n",
    "    \n",
    "solve_maze(0, 0)"
   ]
  }
 ],
 "metadata": {
  "kernelspec": {
   "display_name": "Python 3 (ipykernel)",
   "language": "python",
   "name": "python3"
  },
  "language_info": {
   "codemirror_mode": {
    "name": "ipython",
    "version": 3
   },
   "file_extension": ".py",
   "mimetype": "text/x-python",
   "name": "python",
   "nbconvert_exporter": "python",
   "pygments_lexer": "ipython3",
   "version": "3.12.4"
  }
 },
 "nbformat": 4,
 "nbformat_minor": 5
}
